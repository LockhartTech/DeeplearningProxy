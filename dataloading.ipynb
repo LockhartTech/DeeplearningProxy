{
 "cells": [
  {
   "cell_type": "markdown",
   "metadata": {},
   "source": [
    "\n",
    "# Data loading and preprocessing"
   ]
  },
  {
   "cell_type": "code",
   "execution_count": 90,
   "metadata": {},
   "outputs": [],
   "source": [
    "# Importing required libraries\n",
    "import numpy as np\n",
    "import matplotlib.pyplot as plt\n",
    "%matplotlib inline"
   ]
  },
  {
   "cell_type": "markdown",
   "metadata": {},
   "source": [
    "## Loading data from local computer and .npy format"
   ]
  },
  {
   "cell_type": "code",
   "execution_count": 78,
   "metadata": {},
   "outputs": [],
   "source": [
    "def load_data(path):\n",
    "    \"\"\"\n",
    "    Function to load datasets in format .NPY\n",
    "    \n",
    "    Parameter:\n",
    "    ----------\n",
    "    path : string\n",
    "        The absolute path of where data saved in local system\n",
    "        \n",
    "    Return:\n",
    "    ----------\n",
    "    loaded_data : ndarray\n",
    "        The data which was loaded\n",
    "    \"\"\"\n",
    "    loaded_data = np.load(path)\n",
    "    return loaded_data"
   ]
  },
  {
   "cell_type": "code",
   "execution_count": 79,
   "metadata": {},
   "outputs": [],
   "source": [
    "# define the absolute path of training datatsat\n",
    "path_x = \"Total_Dataset_V0\\Abder_Intersect_Simulations_5_spots\\All_X.npy\"\n",
    "path_target = \"Total_Dataset_V0\\Abder_Intersect_Simulations_5_spots\\All_Y.npy\"\n",
    "# use load_data function nd above path to loading data\n",
    "X_data = load_data(path_x)\n",
    "target_data = load_data(path_target)"
   ]
  },
  {
   "cell_type": "code",
   "execution_count": 80,
   "metadata": {},
   "outputs": [
    {
     "name": "stdout",
     "output_type": "stream",
     "text": [
      "(3000, 14, 100, 100, 2)\n"
     ]
    }
   ],
   "source": [
    "print(X_data.shape)\n",
    "# split dataset to training and testing dataset with 75% total size for training and 25% for testing\n",
    "train_size = 2250\n",
    "test_size = 750"
   ]
  },
  {
   "cell_type": "markdown",
   "metadata": {},
   "source": [
    "## Preprocessing data (Normalized and standardized)\n",
    "\n",
    "The goal of applying Feature Scaling is to make sure features are on almost the same scale so that each feature is equally important and make it easier to process by most ML algorithms by helping the gradient descent converge more quickly towards the minima.\n",
    "\n",
    "Two common methods for feature scaling are : \n",
    "\n",
    "- Normalization\n",
    "\\\n",
    "Normalization is a scaling technique in which values are shifted and rescaled so that they end up ranging between 0 and 1. It is also known as Min-Max scaling.\n",
    "\n",
    "- Standardaisation\\\n",
    "Standardization is another scaling technique where the values are centered around the mean with a unit standard deviation. This means that the mean of the attribute becomes zero and the resultant distribution has a unit standard deviation.\n",
    "\n"
   ]
  },
  {
   "cell_type": "code",
   "execution_count": 83,
   "metadata": {},
   "outputs": [],
   "source": [
    "# Two common methods for feature scaling is : 1-Normalization & 2-Standardaisation\n",
    "\n",
    "def normalize(data):\n",
    "    \"\"\"\n",
    "    this function used for Max-Min Normalization (Min-Max scaling) by re-scaling\n",
    "    features with a distribution value between 0 and 1. For every feature,the minimum\n",
    "    value of that feature gets transformed into 0, and the maximum value \n",
    "    gets transformed into 1\n",
    "    \n",
    "    Parameter:\n",
    "    ----------\n",
    "    data : ndarray\n",
    "        The numpy array which we want to normalize\n",
    "        \n",
    "    Return:\n",
    "    ----------\n",
    "    norm_data : ndarray\n",
    "        The normalized data which transformed into 0 and 1\n",
    "    \"\"\"\n",
    "    max_p = np.max(data[:train_size, :, :, :])\n",
    "    min_p = np.min(data[:train_size, :, :, :])\n",
    "    norm_data = (data - min_p)/(max_p - min_p)\n",
    "    return norm_data\n",
    "\n",
    "def standardize(data):\n",
    "    \"\"\"\n",
    "    this function used for rescaling faetures to ensure the mean\n",
    "    and the standard deviation to be 0 and 1, respectively.\n",
    "    \n",
    "    Parameter:\n",
    "    ----------\n",
    "    data : ndarray\n",
    "        The numpy array which we want to normalize\n",
    "        \n",
    "    Return:\n",
    "    ----------\n",
    "    data : ndarray\n",
    "        The standardized data which the mean\n",
    "    and the standard deviation to be 0 and 1\n",
    "    \"\"\"\n",
    "    data_mean = np.mean(data[:train_size, :, :, :], axis = 0, keepdims = True)\n",
    "    data_std = np.std(data[:train_size, :, :, :], axis = 0, keepdims = True)\n",
    "    std_data = (data - data_mean)/(data_std)\n",
    "    return std_data"
   ]
  },
  {
   "cell_type": "code",
   "execution_count": 84,
   "metadata": {},
   "outputs": [],
   "source": [
    "# Split datasets to porosity, permeability and pressurre and ssaturation \n",
    "permeability = X_data[:, : , : , :, 1]\n",
    "porosity = X_data[:, : , : , :, 0]\n",
    "saturation = target_data[:, :, :, :, 0]\n",
    "pressure = target_data[:, :, :, :, 1]"
   ]
  },
  {
   "cell_type": "markdown",
   "metadata": {},
   "source": [
    "## Feature statistics before and after training data normalization"
   ]
  },
  {
   "cell_type": "code",
   "execution_count": 87,
   "metadata": {
    "scrolled": false
   },
   "outputs": [
    {
     "name": "stdout",
     "output_type": "stream",
     "text": [
      "max pressure is  0.568581759929657 , min pressure is  0.08140351623296738\n",
      "max saturation is  1.0 , min saturation is  0.0022850215743466947\n",
      "max permeability is  0.9333820040141154 , min permeability is  0.0\n",
      "max porosity is  1.0 , min porosity is  0.0\n"
     ]
    }
   ],
   "source": [
    "##-------------------Pressure statistics---------------------##\n",
    "p_mean = np.mean(pressure[:train_size, :, :, :], axis = 0, keepdims = True)\n",
    "p_std = np.std(pressure[:train_size, :, :, :], axis = 0)\n",
    "print('max pressure is ', np.max(pressure[:train_size, :, :, :]), ', min pressure is ', np.min(pressure[:train_size, :, :, :]))\n",
    "#print('mean pressure is ', p_mean, ', std pressure is ', p_std)\n",
    "##-------------------Saturation statistics---------------------##\n",
    "sat_mean = np.mean(saturation[:train_size, :, :, :], axis = 0, keepdims = True)\n",
    "sat_std = np.std(saturation[:train_size, :, :, :], axis = 0)\n",
    "print('max saturation is ', np.max(saturation[:train_size, :, :, :]), ', min saturation is ', np.min(saturation[:train_size, :, :, :]))\n",
    "#print('mean saturation is ', sat_mean, ', std saturation is ', sat_std)\n",
    "##--------------------Permeability statistics--------------------##\n",
    "K_mean = np.mean(permeability[:train_size, :, :, :], axis = 0, keepdims = True)\n",
    "K_std = np.std(permeability[:train_size, :, :, :], axis = 0)\n",
    "print('max permeability is ', np.max(permeability[:train_size, :, :, :]), ', min permeability is ', np.min(permeability[:train_size, :, :, :]))\n",
    "#print('mean permeability is ', K_mean, ', std permeability is ', K_std)\n",
    "##--------------------Porosity statistics--------------------##\n",
    "poro_mean = np.mean(porosity[:train_size, :, :, :], axis = 0, keepdims = True)\n",
    "poro_std = np.std(porosity[:train_size, :, :, :], axis = 0)\n",
    "print('max porosity is ', np.max(porosity[:train_size, :, :, :]), ', min porosity is ', np.min(porosity[:train_size, :, :, :]))\n",
    "#print('mean porosity is ', poro_mean, ', std porosity is ', poro_std)"
   ]
  },
  {
   "cell_type": "code",
   "execution_count": 88,
   "metadata": {},
   "outputs": [],
   "source": [
    "# Normalize data using abov normalize function\n",
    "porosity = normalize(porosity)\n",
    "permeability = normalize (permeability)\n",
    "saturation = normalize(saturation)\n",
    "pressure = normalize(pressure)\n",
    "# Statistics of data features after normalisation \n",
    "##-------------------Pressure statistics---------------------##\n",
    "print('max pressure is ', np.max(pressure[:train_size, :, :, :]), ', min pressure is ', np.min(pressure[:train_size, :, :, :]))\n",
    "##-------------------Saturation statistics---------------------##\n",
    "print('max saturation is ', np.max(saturation[:train_size, :, :, :]), ', min saturation is ', np.min(saturation[:train_size, :, :, :]))\n",
    "##--------------------Permeability statistics--------------------##\n",
    "print('max permeability is ', np.max(permeability[:train_size, :, :, :]), ', min permeability is ', np.min(permeability[:train_size, :, :, :]))\n",
    "##--------------------Porosity statistics--------------------##\n",
    "print('max porosity is ', np.max(porosity[:train_size, :, :, :]), ', min porosity is ', np.min(porosity[:train_size, :, :, :]))"
   ]
  },
  {
   "cell_type": "code",
   "execution_count": 89,
   "metadata": {},
   "outputs": [
    {
     "name": "stdout",
     "output_type": "stream",
     "text": [
      "max pressure is  1.0 , min pressure is  0.0\n",
      "max saturation is  1.0 , min saturation is  0.0\n",
      "max permeability is  1.0 , min permeability is  0.0\n",
      "max porosity is  1.0 , min porosity is  0.0\n"
     ]
    }
   ],
   "source": [
    "# Statistics of data features after normalisation \n",
    "##-------------------Pressure statistics---------------------##\n",
    "print('max pressure is ', np.max(pressure[:train_size, :, :, :]), ', min pressure is ', np.min(pressure[:train_size, :, :, :]))\n",
    "##-------------------Saturation statistics--------------------##\n",
    "print('max saturation is ', np.max(saturation[:train_size, :, :, :]), ', min saturation is ', np.min(saturation[:train_size, :, :, :]))\n",
    "##--------------------Permeability statistics-----------------##\n",
    "print('max permeability is ', np.max(permeability[:train_size, :, :, :]), ', min permeability is ', np.min(permeability[:train_size, :, :, :]))\n",
    "##--------------------Porosity statistics---------------------##\n",
    "print('max porosity is ', np.max(porosity[:train_size, :, :, :]), ', min porosity is ', np.min(porosity[:train_size, :, :, :]))"
   ]
  },
  {
   "cell_type": "markdown",
   "metadata": {},
   "source": [
    "## Plotting the porosity and permeability map"
   ]
  },
  {
   "cell_type": "code",
   "execution_count": 91,
   "metadata": {},
   "outputs": [
    {
     "data": {
      "text/plain": [
       "<Figure size 432x288 with 0 Axes>"
      ]
     },
     "metadata": {},
     "output_type": "display_data"
    }
   ],
   "source": [
    "# check if all the predictions are correct\n",
    "plt.set_cmap('jet')\n",
    "\n",
    "ind_case = [0, 1, 3]\n",
    "num_case = len(ind_case)"
   ]
  },
  {
   "cell_type": "code",
   "execution_count": 92,
   "metadata": {},
   "outputs": [
    {
     "ename": "NameError",
     "evalue": "name 'test_x' is not defined",
     "output_type": "error",
     "traceback": [
      "\u001b[1;31m---------------------------------------------------------------------------\u001b[0m",
      "\u001b[1;31mNameError\u001b[0m                                 Traceback (most recent call last)",
      "\u001b[1;32m<ipython-input-92-885ce51d5249>\u001b[0m in \u001b[0;36m<module>\u001b[1;34m\u001b[0m\n\u001b[0;32m      3\u001b[0m         \u001b[0mplt\u001b[0m\u001b[1;33m.\u001b[0m\u001b[0mfigure\u001b[0m\u001b[1;33m(\u001b[0m\u001b[0mfigsize\u001b[0m\u001b[1;33m=\u001b[0m\u001b[1;33m(\u001b[0m\u001b[1;36m7\u001b[0m\u001b[1;33m,\u001b[0m\u001b[1;36m7\u001b[0m\u001b[1;33m)\u001b[0m\u001b[1;33m)\u001b[0m\u001b[1;33m\u001b[0m\u001b[1;33m\u001b[0m\u001b[0m\n\u001b[0;32m      4\u001b[0m         \u001b[0mplt\u001b[0m\u001b[1;33m.\u001b[0m\u001b[0msubplot\u001b[0m\u001b[1;33m(\u001b[0m\u001b[1;36m3\u001b[0m\u001b[1;33m,\u001b[0m \u001b[1;36m1\u001b[0m\u001b[1;33m,\u001b[0m \u001b[1;36m1\u001b[0m\u001b[1;33m)\u001b[0m\u001b[1;33m\u001b[0m\u001b[1;33m\u001b[0m\u001b[0m\n\u001b[1;32m----> 5\u001b[1;33m         \u001b[0mplt\u001b[0m\u001b[1;33m.\u001b[0m\u001b[0mimshow\u001b[0m\u001b[1;33m(\u001b[0m\u001b[0mtest_x\u001b[0m\u001b[1;33m[\u001b[0m\u001b[0mk\u001b[0m\u001b[1;33m,\u001b[0m \u001b[1;33m:\u001b[0m\u001b[1;33m:\u001b[0m\u001b[1;33m-\u001b[0m\u001b[1;36m1\u001b[0m\u001b[1;33m,\u001b[0m \u001b[1;33m:\u001b[0m\u001b[1;33m,\u001b[0m \u001b[1;36m0\u001b[0m\u001b[1;33m]\u001b[0m\u001b[1;33m)\u001b[0m\u001b[1;33m\u001b[0m\u001b[1;33m\u001b[0m\u001b[0m\n\u001b[0m\u001b[0;32m      6\u001b[0m         \u001b[0mcbar\u001b[0m \u001b[1;33m=\u001b[0m \u001b[0mplt\u001b[0m\u001b[1;33m.\u001b[0m\u001b[0mcolorbar\u001b[0m\u001b[1;33m(\u001b[0m\u001b[0mfraction\u001b[0m\u001b[1;33m=\u001b[0m\u001b[1;36m0.046\u001b[0m\u001b[1;33m)\u001b[0m\u001b[1;33m\u001b[0m\u001b[1;33m\u001b[0m\u001b[0m\n\u001b[0;32m      7\u001b[0m         \u001b[0mcbar\u001b[0m\u001b[1;33m.\u001b[0m\u001b[0max\u001b[0m\u001b[1;33m.\u001b[0m\u001b[0mtick_params\u001b[0m\u001b[1;33m(\u001b[0m\u001b[0mlabelsize\u001b[0m\u001b[1;33m=\u001b[0m\u001b[1;36m16\u001b[0m\u001b[1;33m)\u001b[0m\u001b[1;33m\u001b[0m\u001b[1;33m\u001b[0m\u001b[0m\n",
      "\u001b[1;31mNameError\u001b[0m: name 'test_x' is not defined"
     ]
    },
    {
     "data": {
      "image/png": "[encoded data removed]",
      "text/plain": [
       "<Figure size 504x504 with 1 Axes>"
      ]
     },
     "metadata": {
      "needs_background": "light"
     },
     "output_type": "display_data"
    }
   ],
   "source": [
    "for k in ind_case:\n",
    "    for i_tstep in range(1):\n",
    "        plt.figure(figsize=(7,7))\n",
    "        plt.subplot(3, 1, 1)\n",
    "        plt.imshow(pressure[k, ::-1, :, 0])\n",
    "        cbar = plt.colorbar(fraction=0.046)\n",
    "        cbar.ax.tick_params(labelsize=16)\n",
    "        plt.tight_layout()\n",
    "        plt.subplot(3, 1, 2)\n",
    "        plt.imshow(test_x[k, ::-1, :, 0].reshape((80,80)), vmin=-0.09, vmax=1.07)\n",
    "        #plt.set_clim([-0.09, 1.07])\n",
    "        cbar = plt.colorbar(fraction=0.046)\n",
    "        cbar.ax.tick_params(labelsize=16)\n",
    "        plt.tight_layout()\n",
    "        \n",
    "        plt.subplot(3, 1, 3)\n",
    "        plt.imshow(test_x[k, ::-1, :, 0].reshape((80,80)) - test_x[k, ::-1, :, i_tstep])\n",
    "        cbar = plt.colorbar(fraction=0.046)\n",
    "        cbar.ax.tick_params(labelsize=16)\n",
    "        #plt.clim([-0.2, 0.2])\n",
    "        plt.tight_layout()\n",
    "        #plt.savefig('ind_case_%d_logk'%(k),bbox_inches='tight')\n",
    "plt.show()"
   ]
  }
 ],
 "metadata": {
  "kernelspec": {
   "display_name": "Python 3",
   "language": "python",
   "name": "python3"
  },
  "language_info": {
   "codemirror_mode": {
    "name": "ipython",
    "version": 3
   },
   "file_extension": ".py",
   "mimetype": "text/x-python",
   "name": "python",
   "nbconvert_exporter": "python",
   "pygments_lexer": "ipython3",
   "version": "3.7.9"
  }
 },
 "nbformat": 4,
 "nbformat_minor": 4
}
