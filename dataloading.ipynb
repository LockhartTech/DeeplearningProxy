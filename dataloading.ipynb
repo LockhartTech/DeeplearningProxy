{
 "cells": [
  {
   "cell_type": "code",
   "execution_count": 77,
   "metadata": {},
   "outputs": [],
   "source": [
    "import numpy as np\n",
    "import matplotlib as plt"
   ]
  },
  {
   "cell_type": "code",
   "execution_count": 78,
   "metadata": {},
   "outputs": [],
   "source": [
    "def load_data(path):\n",
    "    \"\"\"\n",
    "    Function to load datasets in format .NPY\n",
    "    \n",
    "    Parameter:\n",
    "    ----------\n",
    "    path : string\n",
    "        The absolute path of where data saved in local system\n",
    "        \n",
    "    Return:\n",
    "    ----------\n",
    "    loaded_data : ndarray\n",
    "        The data which was loaded\n",
    "    \"\"\"\n",
    "    loaded_data = np.load(path)\n",
    "    return loaded_data"
   ]
  },
  {
   "cell_type": "code",
   "execution_count": 79,
   "metadata": {},
   "outputs": [],
   "source": [
    "# define the absolute path of training datatsat\n",
    "path_x = \"Total_Dataset_V0\\Abder_Intersect_Simulations_5_spots\\All_X.npy\"\n",
    "path_target = \"Total_Dataset_V0\\Abder_Intersect_Simulations_5_spots\\All_Y.npy\"\n",
    "# use load_data function nd above path to loading data\n",
    "X_data = load_data(path_x)\n",
    "target_data = load_data(path_target)"
   ]
  },
  {
   "cell_type": "code",
   "execution_count": 80,
   "metadata": {},
   "outputs": [
    {
     "name": "stdout",
     "output_type": "stream",
     "text": [
      "(3000, 14, 100, 100, 2)\n"
     ]
    }
   ],
   "source": [
    "print(X_data.shape)\n",
    "# split dataset to training and testing dataset with 75% total size for training and 25% for testing\n",
    "train_size = 2250\n",
    "test_size = 750"
   ]
  },
  {
   "cell_type": "code",
   "execution_count": 83,
   "metadata": {},
   "outputs": [],
   "source": [
    "# Two common methods for feature scaling is : 1-Normalization & 2-Standardaisation\n",
    "\n",
    "def normalize(data):\n",
    "    \"\"\"\n",
    "    this function used for Max-Min Normalization (Min-Max scaling) by re-scaling\n",
    "    features with a distribution value between 0 and 1. For every feature,the minimum\n",
    "    value of that feature gets transformed into 0, and the maximum value \n",
    "    gets transformed into 1\n",
    "    \n",
    "    Parameter:\n",
    "    ----------\n",
    "    data : ndarray\n",
    "        The numpy array which we want to normalize\n",
    "        \n",
    "    Return:\n",
    "    ----------\n",
    "    norm_data : ndarray\n",
    "        The normalized data which transformed into 0 and 1\n",
    "    \"\"\"\n",
    "    max_p = np.max(data[:train_size, :, :, :])\n",
    "    min_p = np.min(data[:train_size, :, :, :])\n",
    "    norm_data = (data - min_p)/(max_p - min_p)\n",
    "    return norm_data\n",
    "\n",
    "def standardize(data):\n",
    "    \"\"\"\n",
    "    this function used for rescaling faetures to ensure the mean\n",
    "    and the standard deviation to be 0 and 1, respectively.\n",
    "    \n",
    "    Parameter:\n",
    "    ----------\n",
    "    data : ndarray\n",
    "        The numpy array which we want to normalize\n",
    "        \n",
    "    Return:\n",
    "    ----------\n",
    "    data : ndarray\n",
    "        The standardized data which the mean\n",
    "    and the standard deviation to be 0 and 1\n",
    "    \"\"\"\n",
    "    data_mean = np.mean(data[:train_size, :, :, :], axis = 0, keepdims = True)\n",
    "    data_std = np.std(data[:train_size, :, :, :], axis = 0, keepdims = True)\n",
    "    std_data = (data - data_mean)/(data_std)\n",
    "    return std_data"
   ]
  },
  {
   "cell_type": "code",
   "execution_count": 84,
   "metadata": {},
   "outputs": [],
   "source": [
    "permeability = X_data[:, : , : , :, 1]\n",
    "porosity = X_data[:, : , : , :, 0]\n",
    "saturation = target_data[:, :, :, :, 0]\n",
    "pressure = target_data[:, :, :, :, 1]"
   ]
  },
  {
   "cell_type": "code",
   "execution_count": 87,
   "metadata": {
    "scrolled": false
   },
   "outputs": [
    {
     "name": "stdout",
     "output_type": "stream",
     "text": [
      "max pressure is  0.568581759929657 , min pressure is  0.08140351623296738\n",
      "max saturation is  1.0 , min saturation is  0.0022850215743466947\n",
      "max permeability is  0.9333820040141154 , min permeability is  0.0\n",
      "max porosity is  1.0 , min porosity is  0.0\n"
     ]
    }
   ],
   "source": [
    "##-------------------Pressure statistics---------------------##\n",
    "p_mean = np.mean(pressure[:train_size, :, :, :], axis = 0, keepdims = True)\n",
    "p_std = np.std(pressure[:train_size, :, :, :], axis = 0)\n",
    "print('max pressure is ', np.max(pressure[:train_size, :, :, :]), ', min pressure is ', np.min(pressure[:train_size, :, :, :]))\n",
    "#print('mean pressure is ', p_mean, ', std pressure is ', p_std)\n",
    "##-------------------Saturation statistics---------------------##\n",
    "sat_mean = np.mean(saturation[:train_size, :, :, :], axis = 0, keepdims = True)\n",
    "sat_std = np.std(saturation[:train_size, :, :, :], axis = 0)\n",
    "print('max saturation is ', np.max(saturation[:train_size, :, :, :]), ', min saturation is ', np.min(saturation[:train_size, :, :, :]))\n",
    "#print('mean saturation is ', sat_mean, ', std saturation is ', sat_std)\n",
    "##--------------------Permeability statistics--------------------##\n",
    "K_mean = np.mean(permeability[:train_size, :, :, :], axis = 0, keepdims = True)\n",
    "K_std = np.std(permeability[:train_size, :, :, :], axis = 0)\n",
    "print('max permeability is ', np.max(permeability[:train_size, :, :, :]), ', min permeability is ', np.min(permeability[:train_size, :, :, :]))\n",
    "#print('mean permeability is ', K_mean, ', std permeability is ', K_std)\n",
    "##--------------------Porosity statistics--------------------##\n",
    "poro_mean = np.mean(porosity[:train_size, :, :, :], axis = 0, keepdims = True)\n",
    "poro_std = np.std(porosity[:train_size, :, :, :], axis = 0)\n",
    "print('max porosity is ', np.max(porosity[:train_size, :, :, :]), ', min porosity is ', np.min(porosity[:train_size, :, :, :]))\n",
    "#print('mean porosity is ', poro_mean, ', std porosity is ', poro_std)"
   ]
  },
  {
   "cell_type": "code",
   "execution_count": 88,
   "metadata": {},
   "outputs": [],
   "source": [
    "# Normalize data using abov normalize function\n",
    "porosity = normalize(porosity)\n",
    "permeability = normalize (permeability)\n",
    "saturation = normalize(saturation)\n",
    "pressure = normalize(pressure)\n",
    "# Statistics of data features after normalisation \n",
    "##-------------------Pressure statistics---------------------##\n",
    "print('max pressure is ', np.max(pressure[:train_size, :, :, :]), ', min pressure is ', np.min(pressure[:train_size, :, :, :]))\n",
    "##-------------------Saturation statistics---------------------##\n",
    "print('max saturation is ', np.max(saturation[:train_size, :, :, :]), ', min saturation is ', np.min(saturation[:train_size, :, :, :]))\n",
    "##--------------------Permeability statistics--------------------##\n",
    "print('max permeability is ', np.max(permeability[:train_size, :, :, :]), ', min permeability is ', np.min(permeability[:train_size, :, :, :]))\n",
    "##--------------------Porosity statistics--------------------##\n",
    "print('max porosity is ', np.max(porosity[:train_size, :, :, :]), ', min porosity is ', np.min(porosity[:train_size, :, :, :]))"
   ]
  },
  {
   "cell_type": "code",
   "execution_count": 89,
   "metadata": {},
   "outputs": [
    {
     "name": "stdout",
     "output_type": "stream",
     "text": [
      "max pressure is  1.0 , min pressure is  0.0\n",
      "max saturation is  1.0 , min saturation is  0.0\n",
      "max permeability is  1.0 , min permeability is  0.0\n",
      "max porosity is  1.0 , min porosity is  0.0\n"
     ]
    }
   ],
   "source": [
    "# Statistics of data features after normalisation \n",
    "##-------------------Pressure statistics---------------------##\n",
    "print('max pressure is ', np.max(pressure[:train_size, :, :, :]), ', min pressure is ', np.min(pressure[:train_size, :, :, :]))\n",
    "##-------------------Saturation statistics--------------------##\n",
    "print('max saturation is ', np.max(saturation[:train_size, :, :, :]), ', min saturation is ', np.min(saturation[:train_size, :, :, :]))\n",
    "##--------------------Permeability statistics-----------------##\n",
    "print('max permeability is ', np.max(permeability[:train_size, :, :, :]), ', min permeability is ', np.min(permeability[:train_size, :, :, :]))\n",
    "##--------------------Porosity statistics---------------------##\n",
    "print('max porosity is ', np.max(porosity[:train_size, :, :, :]), ', min porosity is ', np.min(porosity[:train_size, :, :, :]))"
   ]
  }
 ],
 "metadata": {
  "kernelspec": {
   "display_name": "Python 3",
   "language": "python",
   "name": "python3"
  },
  "language_info": {
   "codemirror_mode": {
    "name": "ipython",
    "version": 3
   },
   "file_extension": ".py",
   "mimetype": "text/x-python",
   "name": "python",
   "nbconvert_exporter": "python",
   "pygments_lexer": "ipython3",
   "version": "3.7.9"
  }
 },
 "nbformat": 4,
 "nbformat_minor": 4
}
